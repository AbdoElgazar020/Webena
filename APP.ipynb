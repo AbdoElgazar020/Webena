{
 "cells": [
  {
   "cell_type": "code",
   "execution_count": null,
   "metadata": {},
   "outputs": [],
   "source": [
    "from flask import Flask, render_template, request\n",
    "import cv2\n",
    "from tensorflow.keras.models import load_model\n",
    "import numpy as np\n",
    "import base64\n",
    "\n",
    "model = load_model('.\\static\\model.h5')  # Load pre-trained model\n",
    "model.compile(loss='categorical_crossentropy', optimizer='rmsprop', metrics=['accuracy'])"
   ]
  },
  {
   "cell_type": "code",
   "execution_count": null,
   "metadata": {},
   "outputs": [],
   "source": [
    "app = Flask(__name__)\n",
    "app.config[\"SEND_FILE_MAX_AGE_DEFAULT\"] = 1\n",
    "\n",
    "@app.route('/')\n",
    "def man():\n",
    "    return render_template('index.html')\n",
    "\n",
    "@app.route('/home', methods=['POST'])\n",
    "def home():\n",
    "    img = request.files['image']\n",
    "    img_binary = img.read()\n",
    "\n",
    "    img_arr = cv2.imdecode(np.frombuffer(img_binary, np.uint8), -1)\n",
    "    img_arr = cv2.resize(img_arr, (128, 128))\n",
    "    img_arr = img_arr / 255.0\n",
    "    img_arr = img_arr.reshape(1, 128, 128, 3)\n",
    "    prediction = model.predict(img_arr)\n",
    "    probability_class_1 = prediction[0, 0]\n",
    "\n",
    "    # Pass prediction and image as a dictionary to the template\n",
    "    return render_template('prediction.html', data={'image': base64.b64encode(img_binary).decode('utf-8'), 'prediction': probability_class_1})"
   ]
  },
  {
   "cell_type": "code",
   "execution_count": null,
   "metadata": {},
   "outputs": [],
   "source": [
    "if __name__ == '__main__':\n",
    "    app.run(debug=False)"
   ]
  },
  {
   "cell_type": "code",
   "execution_count": null,
   "metadata": {},
   "outputs": [],
   "source": []
  }
 ],
 "metadata": {
  "kernelspec": {
   "display_name": "Python 3",
   "language": "python",
   "name": "python3"
  },
  "language_info": {
   "codemirror_mode": {
    "name": "ipython",
    "version": 3
   },
   "file_extension": ".py",
   "mimetype": "text/x-python",
   "name": "python",
   "nbconvert_exporter": "python",
   "pygments_lexer": "ipython3",
   "version": "3.11.8"
  }
 },
 "nbformat": 4,
 "nbformat_minor": 4
}
