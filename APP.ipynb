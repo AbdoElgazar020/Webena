{
 "cells": [
  {
   "cell_type": "code",
   "execution_count": 1,
   "metadata": {},
   "outputs": [
    {
     "name": "stderr",
     "output_type": "stream",
     "text": [
      "WARNING:absl:Compiled the loaded model, but the compiled metrics have yet to be built. `model.compile_metrics` will be empty until you train or evaluate the model.\n"
     ]
    }
   ],
   "source": [
    "from flask import Flask, render_template, request\n",
    "import cv2\n",
    "from tensorflow.keras.models import load_model\n",
    "import numpy as np\n",
    "import pyodbc\n",
    "import base64\n",
    "\n",
    "model = load_model('./static/model.h5')  # Load pre-trained model\n",
    "model.compile(loss='categorical_crossentropy', optimizer='rmsprop', metrics=['accuracy'])"
   ]
  },
  {
   "cell_type": "code",
   "execution_count": 2,
   "metadata": {},
   "outputs": [],
   "source": [
    "server = 'azdatabas.database.windows.net'\n",
    "database = 'DRZ'\n",
    "username = 'ATWAN'\n",
    "password = 'Mm@12345'\n",
    "\n",
    "connection_string = 'Driver={ODBC Driver 18 for SQL Server};Server=' + server + ';Database=' + database + ';UID=' + username + ';PWD=' + password + ';Encrypt=yes;TrustServerCertificate=no;Connection Timeout=30;'"
   ]
  },
  {
   "cell_type": "code",
   "execution_count": 3,
   "metadata": {},
   "outputs": [],
   "source": [
    "COUNT = 0\n",
    "app = Flask(__name__)\n",
    "app.config[\"SEND_FILE_MAX_AGE_DEFAULT\"] = 1\n",
    "\n",
    "@app.route('/')\n",
    "def man():\n",
    "    return render_template('index.html')\n",
    "\n",
    "@app.route('/home', methods=['POST'])\n",
    "def home():\n",
    "    # Connect to the Azure SQL Database\n",
    "    Connection = pyodbc.connect(connection_string)\n",
    "    cursor = Connection.cursor()\n",
    "\n",
    "    img = request.files['image']\n",
    "    img_binary = img.read()\n",
    "\n",
    "    img_arr = cv2.imdecode(np.frombuffer(img_binary, np.uint8), -1)\n",
    "    img_arr = cv2.resize(img_arr, (128, 128))\n",
    "    img_arr = img_arr / 255.0\n",
    "    img_arr = img_arr.reshape(1, 128, 128, 3)\n",
    "    prediction = model.predict(img_arr)\n",
    "    probability_class_1 = prediction[0, 0]\n",
    "\n",
    "    # Insert image and prediction into the database\n",
    "    cursor.execute(\"INSERT INTO ImagePredictions (image, prediction) VALUES (?, ?)\",\n",
    "               (pyodbc.Binary(img_binary), str(probability_class_1)))\n",
    "    Connection.commit()\n",
    "    Connection.close()\n",
    "\n",
    "\n",
    "    # Pass prediction and image as a dictionary to the template\n",
    "    return render_template('prediction.html', data={'image': base64.b64encode(img_binary).decode('utf-8'), 'prediction': probability_class_1})\n"
   ]
  },
  {
   "cell_type": "code",
   "execution_count": 9,
   "metadata": {},
   "outputs": [],
   "source": [
    "\n",
    "\n",
    "# @app.route('/prediction_data')\n",
    "# def prediction_data():\n",
    "#     # Connect to the Azure SQL Database\n",
    "#     Connection = pyodbc.connect(connection_string)\n",
    "#     cursor = Connection.cursor()\n",
    "\n",
    "#     # Fetch the latest image and its prediction from the database\n",
    "#     cursor.execute(\"SELECT TOP 1 image, prediction FROM ImagePredictions ORDER BY id DESC\")\n",
    "#     row = cursor.fetchone()\n",
    "#     image_binary = row[0]\n",
    "#     prediction = row[1]\n",
    "\n",
    "#     Connection.close()\n",
    "\n",
    "#     # Return the image binary data and its prediction\n",
    "#     return image_binary, prediction\n",
    "\n",
    "# @app.route('/load_img')\n",
    "# def load_img():\n",
    "#     global COUNT\n",
    "#     return send_from_directory('Data', \"{}.jpg\".format(COUNT - 1))"
   ]
  },
  {
   "cell_type": "code",
   "execution_count": 7,
   "metadata": {
    "jupyter": {
     "source_hidden": true
    }
   },
   "outputs": [],
   "source": [
    "# COUNT = 0\n",
    "# app = Flask(__name__)\n",
    "# app.config[\"SEND_FILE_MAX_AGE_DEFAULT\"] = 1\n",
    "\n",
    "# @app.route('/')\n",
    "# def man():\n",
    "#     return render_template('index.html')\n",
    "\n",
    "\n",
    "# @app.route('/home', methods=['POST'])\n",
    "# def home():\n",
    "#     global COUNT\n",
    "#     img = request.files['image']\n",
    "\n",
    "#     img.save('Data/{}.jpg'.format(COUNT))    \n",
    "#     img_arr = cv2.imread('Data/{}.jpg'.format(COUNT))\n",
    "\n",
    "#     img_arr = cv2.resize(img_arr, (128,128))\n",
    "#     img_arr = img_arr / 255.0\n",
    "#     img_arr = img_arr.reshape(1, 128,128,3)\n",
    "#     prediction = model.predict(img_arr)\n",
    "\n",
    "#     # Assuming the output is a probability indicating class 1\n",
    "#     probability_class_1 = prediction[0, 0]\n",
    "#     COUNT += 1\n",
    "#     return render_template('prediction.html', data=probability_class_1)\n",
    "\n",
    "\n",
    "# @app.route('/load_img')\n",
    "# def load_img():\n",
    "#     global COUNT\n",
    "#     return send_from_directory('Data', \"{}.jpg\".format(COUNT-1))"
   ]
  },
  {
   "cell_type": "code",
   "execution_count": 5,
   "metadata": {},
   "outputs": [
    {
     "name": "stdout",
     "output_type": "stream",
     "text": [
      " * Serving Flask app '__main__'\n",
      " * Debug mode: off\n"
     ]
    },
    {
     "name": "stderr",
     "output_type": "stream",
     "text": [
      "INFO:werkzeug:\u001b[31m\u001b[1mWARNING: This is a development server. Do not use it in a production deployment. Use a production WSGI server instead.\u001b[0m\n",
      " * Running on http://127.0.0.1:5000\n",
      "INFO:werkzeug:\u001b[33mPress CTRL+C to quit\u001b[0m\n",
      "INFO:werkzeug:127.0.0.1 - - [13/May/2024 17:17:11] \"GET / HTTP/1.1\" 200 -\n",
      "INFO:werkzeug:127.0.0.1 - - [13/May/2024 17:17:11] \"\u001b[33mGET /style.css HTTP/1.1\u001b[0m\" 404 -\n",
      "INFO:werkzeug:127.0.0.1 - - [13/May/2024 17:17:12] \"GET / HTTP/1.1\" 200 -\n",
      "INFO:werkzeug:127.0.0.1 - - [13/May/2024 17:17:12] \"\u001b[33mGET /style.css HTTP/1.1\u001b[0m\" 404 -\n",
      "INFO:werkzeug:127.0.0.1 - - [13/May/2024 17:17:12] \"GET / HTTP/1.1\" 200 -\n",
      "INFO:werkzeug:127.0.0.1 - - [13/May/2024 17:17:12] \"\u001b[33mGET /style.css HTTP/1.1\u001b[0m\" 404 -\n"
     ]
    },
    {
     "name": "stdout",
     "output_type": "stream",
     "text": [
      "\u001b[1m1/1\u001b[0m \u001b[32m━━━━━━━━━━━━━━━━━━━━\u001b[0m\u001b[37m\u001b[0m \u001b[1m0s\u001b[0m 69ms/step\n"
     ]
    },
    {
     "name": "stderr",
     "output_type": "stream",
     "text": [
      "INFO:werkzeug:127.0.0.1 - - [13/May/2024 17:17:16] \"POST /home HTTP/1.1\" 200 -\n",
      "INFO:werkzeug:127.0.0.1 - - [13/May/2024 17:17:17] \"\u001b[33mGET /style.css HTTP/1.1\u001b[0m\" 404 -\n",
      "INFO:werkzeug:127.0.0.1 - - [13/May/2024 17:17:18] \"GET / HTTP/1.1\" 200 -\n",
      "INFO:werkzeug:127.0.0.1 - - [13/May/2024 17:17:19] \"\u001b[33mGET /style.css HTTP/1.1\u001b[0m\" 404 -\n",
      "INFO:werkzeug:127.0.0.1 - - [13/May/2024 17:17:20] \"GET / HTTP/1.1\" 200 -\n",
      "INFO:werkzeug:127.0.0.1 - - [13/May/2024 17:17:20] \"\u001b[33mGET /style.css HTTP/1.1\u001b[0m\" 404 -\n",
      "INFO:werkzeug:127.0.0.1 - - [13/May/2024 17:17:21] \"GET / HTTP/1.1\" 200 -\n",
      "INFO:werkzeug:127.0.0.1 - - [13/May/2024 17:17:21] \"\u001b[33mGET /style.css HTTP/1.1\u001b[0m\" 404 -\n"
     ]
    }
   ],
   "source": [
    "if __name__ == '__main__':\n",
    "    app.run(debug=False)"
   ]
  },
  {
   "cell_type": "code",
   "execution_count": null,
   "metadata": {},
   "outputs": [],
   "source": []
  }
 ],
 "metadata": {
  "kernelspec": {
   "display_name": "Python 3",
   "language": "python",
   "name": "python3"
  },
  "language_info": {
   "codemirror_mode": {
    "name": "ipython",
    "version": 3
   },
   "file_extension": ".py",
   "mimetype": "text/x-python",
   "name": "python",
   "nbconvert_exporter": "python",
   "pygments_lexer": "ipython3",
   "version": "3.11.8"
  }
 },
 "nbformat": 4,
 "nbformat_minor": 4
}
